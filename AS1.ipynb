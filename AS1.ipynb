{
 "cells": [
  {
   "cell_type": "markdown",
   "metadata": {},
   "source": [
    "# Question 1"
   ]
  },
  {
   "cell_type": "code",
   "execution_count": 1,
   "metadata": {},
   "outputs": [],
   "source": [
    "using Distributions\n",
    "using Random\n",
    "using LinearAlgebra"
   ]
  },
  {
   "cell_type": "code",
   "execution_count": 2,
   "metadata": {},
   "outputs": [],
   "source": [
    "beta = [1, 2, 0,0,0,0,0,0,0];"
   ]
  },
  {
   "cell_type": "code",
   "execution_count": 38,
   "metadata": {},
   "outputs": [],
   "source": [
    "# sample data creation\n",
    "Random.seed!(123)\n",
    "n = 50\n",
    "std = 0.5\n",
    "du = Uniform()\n",
    "Xvar = rand(du, n, 8)\n",
    "constant = ones(n)\n",
    "X = hcat(constant, Xvar*2)\n",
    "\n",
    "dn = Normal()\n",
    "eps = rand(dn, n)\n",
    "\n",
    "y = X*beta + std*eps;"
   ]
  },
  {
   "cell_type": "code",
   "execution_count": 50,
   "metadata": {},
   "outputs": [],
   "source": [
    "# set prior\n",
    "m = zeros(9)\n",
    "C = zeros((9,9)) + I\n",
    "a = 1.0\n",
    "b = 1.0;"
   ]
  },
  {
   "cell_type": "code",
   "execution_count": 51,
   "metadata": {},
   "outputs": [],
   "source": [
    "# MCMC\n",
    "ns = 1000\n",
    "burn= 0.1*ns\n",
    "betaresult = zeros((9, ns))\n",
    "phiresult = zeros(ns)\n",
    "\n",
    "# initialize\n",
    "b0 = m\n",
    "phi0 = a/b\n",
    "phiresult[1] = phi0\n",
    "\n",
    "# loop\n",
    "# MvNormalを使うとできないのでcanonical formを使う\n",
    "posa = n/2 + a\n",
    "\n",
    "for i in 1:ns\n",
    "    \n",
    "    if i == 1\n",
    "        sigmainv = phiresult[i]*X'X + inv(C)\n",
    "        h = phiresult[i]*X'y + m\n",
    "    else\n",
    "        sigmainv = phiresult[i-1]*X'X + inv(C)\n",
    "        h = phiresult[i-1]*X'y + m\n",
    "    end\n",
    "    cbeta = rand(MvNormalCanon(h, sigmainv))\n",
    "    betaresult[:,i] = cbeta\n",
    "    res = y-X*cbeta\n",
    "    cphi = rand(Gamma(posa, dot(res,res)/2 + b))\n",
    "    phiresult[i] = cphi\n",
    "end\n",
    "\n",
    "    "
   ]
  },
  {
   "cell_type": "code",
   "execution_count": 52,
   "metadata": {},
   "outputs": [
    {
     "data": {
      "text/plain": [
       "1000-element Array{Float64,1}:\n",
       " 302.8093344396621 \n",
       " 220.53770529029825\n",
       " 229.67033558767253\n",
       " 234.195393845848  \n",
       " 209.42511841921294\n",
       " 135.72903922390478\n",
       " 228.89520415619666\n",
       " 192.14442485636906\n",
       " 198.60429760082428\n",
       " 164.96109048217414\n",
       " 224.57995457592833\n",
       " 209.72280556760748\n",
       " 208.32164289153508\n",
       "   ⋮               \n",
       " 192.18026908326758\n",
       " 280.1668446120746 \n",
       " 194.15768902164027\n",
       " 104.00179209594496\n",
       " 221.92023503668793\n",
       " 201.046925371117  \n",
       " 236.08249127263662\n",
       " 166.55259993074424\n",
       " 146.46747931255433\n",
       " 146.2666658554907 \n",
       " 191.87819897774705\n",
       " 172.94787969654598"
      ]
     },
     "execution_count": 52,
     "metadata": {},
     "output_type": "execute_result"
    }
   ],
   "source": [
    "# phiはGammaじゃダメなんだっけ？\n",
    "phiresult"
   ]
  },
  {
   "cell_type": "code",
   "execution_count": 53,
   "metadata": {},
   "outputs": [
    {
     "data": {
      "text/plain": [
       "9×1000 Array{Float64,2}:\n",
       "  1.17169     1.09845      1.14667     1.09418    …   1.05121      1.12355   \n",
       "  2.7032      2.03363      2.03908     2.05027        2.02645      2.07033   \n",
       "  0.185696    0.00837036   0.0146247   0.015685       0.018322    -0.00642985\n",
       " -0.554951   -0.0633411   -0.0776021  -0.0795953     -0.0866694   -0.0710032 \n",
       " -0.373799    0.016822     0.0370754   0.030997       0.0425688   -0.00564404\n",
       "  0.164809    0.212708     0.206972    0.256104   …   0.279801     0.214147  \n",
       " -0.0891686  -0.111353    -0.133395   -0.147858      -0.116359    -0.126466  \n",
       " -0.131059   -0.0347357   -0.0690151  -0.0121648      0.00245444  -0.0239689 \n",
       " -0.170803   -0.143918    -0.142024   -0.195945      -0.196819    -0.167209  "
      ]
     },
     "execution_count": 53,
     "metadata": {},
     "output_type": "execute_result"
    }
   ],
   "source": [
    "# betaはうまくいってる\n",
    "betaresult"
   ]
  },
  {
   "cell_type": "markdown",
   "metadata": {},
   "source": [
    "# Question 2"
   ]
  },
  {
   "cell_type": "code",
   "execution_count": null,
   "metadata": {},
   "outputs": [],
   "source": []
  }
 ],
 "metadata": {
  "kernelspec": {
   "display_name": "Julia 1.0.0",
   "language": "julia",
   "name": "julia-1.0"
  },
  "language_info": {
   "file_extension": ".jl",
   "mimetype": "application/julia",
   "name": "julia",
   "version": "1.0.0"
  }
 },
 "nbformat": 4,
 "nbformat_minor": 2
}
