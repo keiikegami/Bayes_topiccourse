{
 "cells": [
  {
   "cell_type": "markdown",
   "metadata": {},
   "source": [
    "# Question 1"
   ]
  },
  {
   "cell_type": "code",
   "execution_count": 1,
   "metadata": {},
   "outputs": [],
   "source": [
    "using Distributions\n",
    "using Random\n",
    "using LinearAlgebra"
   ]
  },
  {
   "cell_type": "code",
   "execution_count": 2,
   "metadata": {},
   "outputs": [],
   "source": [
    "beta = [1, 2, 0,0,0,0,0,0,0];"
   ]
  },
  {
   "cell_type": "code",
   "execution_count": 38,
   "metadata": {},
   "outputs": [],
   "source": [
    "# sample data creation\n",
    "Random.seed!(123)\n",
    "n = 50\n",
    "std = 0.5\n",
    "du = Uniform()\n",
    "Xvar = rand(du, n, 8)\n",
    "constant = ones(n)\n",
    "X = hcat(constant, Xvar*2)\n",
    "\n",
    "dn = Normal()\n",
    "eps = rand(dn, n)\n",
    "\n",
    "y = X*beta + std*eps;"
   ]
  },
  {
   "cell_type": "code",
   "execution_count": 39,
   "metadata": {},
   "outputs": [],
   "source": [
    "# set prior\n",
    "m = zeros(9)\n",
    "C = zeros((9,9)) + I\n",
    "a = 1.0\n",
    "b = 1.0;"
   ]
  },
  {
   "cell_type": "code",
   "execution_count": 40,
   "metadata": {},
   "outputs": [],
   "source": [
    "# MCMC\n",
    "ns = 1000\n",
    "burn= 0.1*ns\n",
    "betaresult = zeros((9, ns))\n",
    "phiresult = zeros(ns)\n",
    "\n",
    "# initialize\n",
    "b0 = m\n",
    "phi0 = a/b\n",
    "phiresult[1] = phi0\n",
    "\n",
    "# loop\n",
    "# MvNormalを使うとできないのでcanonical formを使う\n",
    "posa = n/2 + a\n",
    "\n",
    "for i in 1:ns\n",
    "    \n",
    "    if i == 1\n",
    "        sigmainv = phiresult[i]*X'X + inv(C)\n",
    "        h = phiresult[i]*X'y + m\n",
    "    else\n",
    "        sigmainv = phiresult[i-1]*X'X + inv(C)\n",
    "        h = phiresult[i-1]*X'y + m\n",
    "    end\n",
    "    cbeta = rand(MvNormalCanon(h, sigmainv))\n",
    "    betaresult[:,i] = cbeta\n",
    "    res = y-X*cbeta\n",
    "    cphi = rand(Gamma(posa, dot(res,res)/2 + b))\n",
    "    phiresult[i] = cphi\n",
    "end\n",
    "\n",
    "    "
   ]
  },
  {
   "cell_type": "code",
   "execution_count": 41,
   "metadata": {},
   "outputs": [
    {
     "data": {
      "text/plain": [
       "1000-element Array{Float64,1}:\n",
       " 404.4800852167519 \n",
       " 136.41394601521074\n",
       " 161.0429983380091 \n",
       " 289.5437221939625 \n",
       " 264.94566797757454\n",
       " 220.8790269202727 \n",
       " 178.45021420766022\n",
       " 233.94057400323643\n",
       " 215.20938653419896\n",
       " 117.04249241951646\n",
       " 179.77324652617563\n",
       " 296.09613083123827\n",
       " 187.0523587584996 \n",
       "   ⋮               \n",
       " 188.70439117077368\n",
       " 211.40651055792048\n",
       " 238.07655117107163\n",
       " 291.50316093330326\n",
       " 155.54425744865156\n",
       " 168.70027191561866\n",
       " 187.48735880237157\n",
       " 232.04249849327078\n",
       " 150.856544838676  \n",
       " 114.78103855137995\n",
       " 158.8189288612275 \n",
       " 198.7649413919687 "
      ]
     },
     "execution_count": 41,
     "metadata": {},
     "output_type": "execute_result"
    }
   ],
   "source": [
    "# phiはGammaじゃダメなんだっけ？\n",
    "phiresult"
   ]
  },
  {
   "cell_type": "code",
   "execution_count": 42,
   "metadata": {},
   "outputs": [
    {
     "data": {
      "text/plain": [
       "9×1000 Array{Float64,2}:\n",
       "  0.341466    1.11166     1.07131     …   0.993714    1.097       1.13841   \n",
       "  1.8372      2.03677     2.08193         2.04838     2.05377     2.07525   \n",
       "  0.0513162   0.0114203   0.0458778       0.0232233   0.0295113   0.00938121\n",
       "  0.438036   -0.0588092  -0.0883185      -0.0482294  -0.0479826  -0.0614116 \n",
       " -0.0434226   0.0530501  -0.00636436      0.0215115  -0.0148148   0.00998752\n",
       "  0.439845    0.210875    0.232531    …   0.263591    0.260158    0.205622  \n",
       "  0.210883   -0.151236   -0.133912       -0.127987   -0.158908   -0.16013   \n",
       "  0.315284   -0.0407414  -0.049847       -0.0110497  -0.0673178  -0.0532886 \n",
       " -0.292458   -0.149197   -0.127564       -0.150676   -0.129337   -0.150955  "
      ]
     },
     "execution_count": 42,
     "metadata": {},
     "output_type": "execute_result"
    }
   ],
   "source": [
    "# betaはうまくいってる\n",
    "betaresult"
   ]
  },
  {
   "cell_type": "code",
   "execution_count": null,
   "metadata": {},
   "outputs": [],
   "source": []
  }
 ],
 "metadata": {
  "kernelspec": {
   "display_name": "Julia 1.0.0",
   "language": "julia",
   "name": "julia-1.0"
  },
  "language_info": {
   "file_extension": ".jl",
   "mimetype": "application/julia",
   "name": "julia",
   "version": "1.0.0"
  }
 },
 "nbformat": 4,
 "nbformat_minor": 2
}
