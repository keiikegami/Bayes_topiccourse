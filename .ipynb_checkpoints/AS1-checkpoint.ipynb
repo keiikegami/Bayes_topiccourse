{
 "cells": [
  {
   "cell_type": "code",
   "execution_count": 37,
   "metadata": {},
   "outputs": [],
   "source": [
    "using Distributions\n",
    "using Random\n",
    "using LinearAlgebra"
   ]
  },
  {
   "cell_type": "code",
   "execution_count": 20,
   "metadata": {},
   "outputs": [
    {
     "data": {
      "text/plain": [
       "9"
      ]
     },
     "execution_count": 20,
     "metadata": {},
     "output_type": "execute_result"
    }
   ],
   "source": [
    "beta = [1, 2, 0,0,0,0,0,0,0]"
   ]
  },
  {
   "cell_type": "code",
   "execution_count": 34,
   "metadata": {},
   "outputs": [],
   "source": [
    "# sample data creation\n",
    "Random.seed!(123)\n",
    "n = 50\n",
    "std = 0.5\n",
    "du = Uniform()\n",
    "Xvar = rand(du, n, 8)\n",
    "constant = ones(n)\n",
    "X = hcat(constant, Xvar*2)\n",
    "\n",
    "dn = Normal()\n",
    "eps = rand(dn, n)\n",
    "\n",
    "y = X*beta + std*eps;"
   ]
  },
  {
   "cell_type": "code",
   "execution_count": 41,
   "metadata": {},
   "outputs": [],
   "source": [
    "# set prior\n",
    "m = zeros(9)\n",
    "C = zeros((9,9)) + I\n",
    "a = 1.0\n",
    "b = 1.0;"
   ]
  },
  {
   "cell_type": "code",
   "execution_count": null,
   "metadata": {},
   "outputs": [],
   "source": [
    "# MCMC\n",
    "ns = 1000\n",
    "burn= 0.1*ns\n",
    "betaresult = zeros((9, ns+1))\n",
    "phiresult = zeros(ns+1)\n",
    "\n",
    "# initialize\n",
    "b0 = m\n",
    "phi0 = a/b\n",
    "phiresult[1] = phi0\n",
    "\n",
    "# loop\n",
    "# まずはMvNormalを使う\n",
    "sigmainv = X'X + inv(C)\n",
    "sigmainvt = sigmainv'\n",
    "sigma = inv(sigmainv)\n",
    "\n",
    "posa = n/2 + a\n",
    "\n",
    "for i in 1:ns\n",
    "    \n",
    "    if i == 1\n",
    "        mu = (phiresult[i]*X'y + m)\\sigmainvt\n",
    "    else\n",
    "        mu = (phiresult[i-1]*X'y + m)\\sigmainvt\n",
    "    end\n",
    "    \n",
    "    cbeta = rand(MvNormal(mu, sigma))\n",
    "    betaresult[:,i] = cbeta\n",
    "    phiresult[i] = rand(Gamma(posa, (y-X*cbeta)'(y-X*cbeta)/2 + b))\n",
    "end\n",
    "\n",
    "    "
   ]
  },
  {
   "cell_type": "code",
   "execution_count": null,
   "metadata": {},
   "outputs": [],
   "source": []
  }
 ],
 "metadata": {
  "kernelspec": {
   "display_name": "Julia 1.0.0",
   "language": "julia",
   "name": "julia-1.0"
  },
  "language_info": {
   "file_extension": ".jl",
   "mimetype": "application/julia",
   "name": "julia",
   "version": "1.0.0"
  }
 },
 "nbformat": 4,
 "nbformat_minor": 2
}
